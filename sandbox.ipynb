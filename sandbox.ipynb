{
 "cells": [
  {
   "cell_type": "code",
   "execution_count": null,
   "metadata": {},
   "outputs": [],
   "source": []
  },
  {
   "cell_type": "code",
   "execution_count": null,
   "metadata": {},
   "outputs": [],
   "source": [
    "# ts_rep = msprime.simulate(\n",
    "#     # first 100 samples from AFR, next 100 from EUR\n",
    "#     samples=[msprime.Sample(0, 0)]*sample_size + [msprime.Sample(1, 0)]*sample_size,\n",
    "#     length=length, \n",
    "#     mutation_rate=mu, \n",
    "#     recombination_rate=rr,\n",
    "#     random_seed=seed,\n",
    "#     num_replicates=replicates,\n",
    "#     **model.asdict())\n",
    "\n",
    "# ts_rep2 = msprime.simulate(\n",
    "#     # first 100 samples from AFR, next 100 from EUR\n",
    "#     samples=[msprime.Sample(0, 0)]*sample_size + [msprime.Sample(1, 0)]*sample_size,\n",
    "#     length=length, \n",
    "#     mutation_rate=mu, \n",
    "#     recombination_rate=rr,\n",
    "#     random_seed=40,\n",
    "#     num_replicates=replicates,\n",
    "#     **model.asdict())\n",
    "\n",
    "# ts_list = [ts_rep, ts_rep2]\n",
    "\n",
    "# for ts_repi in ts_list:\n",
    "#     print(ts_repi)"
   ]
  },
  {
   "cell_type": "code",
   "execution_count": 20,
   "metadata": {},
   "outputs": [
    {
     "ename": "AttributeError",
     "evalue": "'builtin_function_or_method' object has no attribute 'seed'",
     "output_type": "error",
     "traceback": [
      "\u001b[0;31m---------------------------------------------------------------------------\u001b[0m",
      "\u001b[0;31mAttributeError\u001b[0m                            Traceback (most recent call last)",
      "\u001b[0;32m<ipython-input-20-2b137c6058b4>\u001b[0m in \u001b[0;36m<module>\u001b[0;34m\u001b[0m\n\u001b[1;32m      1\u001b[0m \u001b[0;31m# sum([0,1,2,3][2:4])/10\u001b[0m\u001b[0;34m\u001b[0m\u001b[0;34m\u001b[0m\u001b[0;34m\u001b[0m\u001b[0m\n\u001b[0;32m----> 2\u001b[0;31m \u001b[0mrandom\u001b[0m\u001b[0;34m.\u001b[0m\u001b[0mseed\u001b[0m\u001b[0;34m(\u001b[0m\u001b[0;36m10\u001b[0m\u001b[0;34m)\u001b[0m\u001b[0;34m\u001b[0m\u001b[0;34m\u001b[0m\u001b[0m\n\u001b[0m",
      "\u001b[0;31mAttributeError\u001b[0m: 'builtin_function_or_method' object has no attribute 'seed'"
     ]
    }
   ],
   "source": [
    "# sum([0,1,2,3][2:4])/10\n",
    "random.seed(10)"
   ]
  },
  {
   "cell_type": "code",
   "execution_count": 31,
   "metadata": {},
   "outputs": [
    {
     "name": "stdout",
     "output_type": "stream",
     "text": [
      "cat /mnt/norbert/home/jedidiah/projects/archanc/output/ArchIE/*afr.txt > /mnt/norbert/home/jedidiah/projects/archanc/output/ArchIE/combined/GutenkunstThreePop_mnm100-0.015_afr.txt\n",
      "cat /mnt/norbert/home/jedidiah/projects/archanc/output/ArchIE/*eur.txt > /mnt/norbert/home/jedidiah/projects/archanc/output/ArchIE/combined/GutenkunstThreePop_mnm100-0.015_eur.txt\n",
      "rm /mnt/norbert/home/jedidiah/projects/archanc/output/ArchIE/*\n"
     ]
    },
    {
     "data": {
      "text/plain": [
       "256"
      ]
     },
     "execution_count": 31,
     "metadata": {},
     "output_type": "execute_result"
    }
   ],
   "source": [
    "#         cat_afr_cmd = \"cat \" + archie_out_dir + \"*afr.txt\" + \" > \" + archie_out_dir + \"combined/\" + prefix + \"afr.txt\" \n",
    "#         print(cat_afr_cmd)\n",
    "#         os.system(cat_afr_cmd)\n",
    "\n",
    "#         cat_eur_cmd = \"cat \" + archie_out_dir + \"*eur.txt\" + \" > \" + archie_out_dir + \"combined/\" + prefix + \"eur.txt\" \n",
    "#         print(cat_eur_cmd)\n",
    "#         os.system(cat_eur_cmd)\n",
    "\n",
    "#         clean_cmd = \"rm \" + archie_out_dir + \"*\"\n",
    "#         print(clean_cmd)\n",
    "#         os.system(clean_cmd)"
   ]
  },
  {
   "cell_type": "markdown",
   "metadata": {},
   "source": [
    "# Sandbox"
   ]
  },
  {
   "cell_type": "code",
   "execution_count": null,
   "metadata": {},
   "outputs": [],
   "source": [
    "# ts_afr = msprime.simulate(\n",
    "#     samples=[msprime.Sample(0, 0)]*100,\n",
    "#     length=50000, mutation_rate=1.25e-8, random_seed=30, recombination_rate=1e-8,\n",
    "#     **model.asdict())\n",
    "\n",
    "# ts_eur = msprime.simulate(\n",
    "#     samples=[msprime.Sample(1, 0)]*100,\n",
    "#     length=50000, mutation_rate=1.25e-8, random_seed=30, recombination_rate=1e-8,\n",
    "#     **model.asdict())\n",
    "\n",
    "# tree=ts.first()\n",
    "print(ts_afr.first().draw(format=\"unicode\"))"
   ]
  },
  {
   "cell_type": "code",
   "execution_count": null,
   "metadata": {},
   "outputs": [],
   "source": [
    "# # simulate MNMs in AFR\n",
    "# afr_geno = np.zeros(100)\n",
    "# # A_new = np.array([])\n",
    "# # for variant in list(itertools.islice(ts_eur.variants(), 200)):\n",
    "# with open(\"afr_gutenkunst_mnm_100.snp\", \"w\") as text_file:\n",
    "#     for variant in list(ts_eur.variants()):\n",
    "#         print(\"\\t\".join([\"1:\"+str(round(variant.site.position)), \"1\", str(variant.site.position/10e6), str(round(variant.site.position)), \"A\", \"G\"]), file=text_file)\n",
    "#         afr_geno = np.vstack([afr_geno, variant.genotypes])\n",
    "#     #     variant.genotypes, \n",
    "#         if random() < 0.015:\n",
    "#             dist = randint(1,100)\n",
    "#             mnm_cand = variant.site.position+dist \n",
    "\n",
    "#             print(\"\\t\".join([\"1:\"+str(round(mnm_cand))+\"*\", \"1\", str(mnm_cand/10e6), str(round(mnm_cand)), \"A\", \"G\"]), file=text_file)\n",
    "#             afr_geno = np.vstack([afr_geno, variant.genotypes])\n",
    "            \n",
    "# # delete empty first row used to initialize genotype matrix            \n",
    "# afr_geno = np.delete(afr_geno, (0), axis=0)\n",
    "# np.savetxt(\"afr_gutenkunst_mnm_100.geno\", afr_geno, delimiter=\"\\t\")\n",
    "    \n",
    "# simulate MNMs in EUR\n",
    "eur_geno = np.zeros(10, dtype=np.int8)\n",
    "# A_new = np.array([])\n",
    "# for variant in list(itertools.islice(ts_eur.variants(), 200)):\n",
    "# with open(\"eur_gutenkunst_mnm_100.snp\", \"w\") as text_file:\n",
    "for variant in list(ts_eur.variants()):\n",
    "#         print(\"\\t\".join([\"1:\"+str(round(variant.site.position)), \"1\", str(variant.site.position/10e6), str(round(variant.site.position)), \"A\", \"G\"]), file=text_file)\n",
    "    eur_geno = np.vstack([eur_geno, variant.genotypes])\n",
    "#     variant.genotypes, \n",
    "    if random() < 0.015:\n",
    "        dist = randint(1,100)\n",
    "        mnm_cand = variant.site.position+dist \n",
    "\n",
    "#             print(\"\\t\".join([\"1:\"+str(round(mnm_cand))+\"*\", \"1\", str(mnm_cand/10e6), str(round(mnm_cand)), \"A\", \"G\"]), file=text_file)\n",
    "        eur_geno = np.vstack([eur_geno, variant.genotypes])\n",
    "\n",
    "# delete empty first row used to initialize genotype matrix\n",
    "eur_geno = np.delete(eur_geno, (0), axis=0)\n",
    "np.savetxt(\"eur_gutenkunst_mnm_100.geno\", eur_geno, delimiter=\"\\t\")"
   ]
  },
  {
   "cell_type": "code",
   "execution_count": 25,
   "metadata": {},
   "outputs": [
    {
     "data": {
      "text/plain": [
       "array([[1, 1, 0, 1, 0, 1, 0, 0, 1, 0],\n",
       "       [1, 0, 0, 0, 0, 0, 0, 0, 1, 0],\n",
       "       [0, 0, 1, 0, 0, 1, 1, 1, 0, 1],\n",
       "       [0, 1, 1, 1, 1, 0, 1, 0, 0, 0],\n",
       "       [1, 1, 1, 0, 1, 0, 1, 0, 1, 0],\n",
       "       [0, 0, 1, 0, 0, 1, 0, 0, 0, 0],\n",
       "       [1, 0, 0, 0, 0, 0, 0, 1, 0, 1],\n",
       "       [0, 1, 1, 0, 1, 0, 0, 1, 0, 0],\n",
       "       [1, 1, 1, 1, 0, 0, 0, 0, 0, 0],\n",
       "       [0, 0, 1, 0, 0, 0, 0, 0, 0, 0]], dtype=int8)"
      ]
     },
     "execution_count": 25,
     "metadata": {},
     "output_type": "execute_result"
    }
   ],
   "source": [
    "eur_geno = np.empty([10, 20], dtype=np.int8)\n",
    "eur_geno[:,10:20]"
   ]
  },
  {
   "cell_type": "code",
   "execution_count": 80,
   "metadata": {},
   "outputs": [],
   "source": [
    "test_arr = np.array([[  0, -11,  -2, -36,  -9,  85,   0,   0,   1,   1],\n",
    "       [  1,   1,   1,   0,   0,   1,   1,   0,   0,   0],\n",
    "       [  0,   1,   0,   0,   1,   0,   0,   0,   0,   0],\n",
    "       [  0,   0,   1,   0,   0,   0,   1,   0,   0,   0],\n",
    "       [  0,   0,   0,   0,   0,   0,   1,   0,   0,   1],\n",
    "       [  0,   0,   1,   0,   0,   0,   0,   1,   0,   1],\n",
    "       [  0,   0,   0,   0,   0,   0,   1,   0,   0,   0],\n",
    "       [  0,   1,   1,   0,   1,   0,   1,   0,   1,   1],\n",
    "       [  1,   1,   1,   1,   0,   0,   1,   0,   0,   0]], dtype=\"int8\")"
   ]
  },
  {
   "cell_type": "code",
   "execution_count": 83,
   "metadata": {},
   "outputs": [
    {
     "data": {
      "text/plain": [
       "9"
      ]
     },
     "execution_count": 83,
     "metadata": {},
     "output_type": "execute_result"
    }
   ],
   "source": [
    "test_arr.shape[0]"
   ]
  },
  {
   "cell_type": "code",
   "execution_count": null,
   "metadata": {},
   "outputs": [],
   "source": [
    "# ts_rep = msprime.simulate(\n",
    "# #         samples=[msprime.Sample(i, 0)]*100,\n",
    "#     samples=[msprime.Sample(gp, 0) for gp in range(2)]*100,\n",
    "#     length=50000, \n",
    "#     mutation_rate=1.25e-8, \n",
    "#     recombination_rate=1e-8,\n",
    "#     random_seed=30,\n",
    "#     num_replicates=5,\n",
    "#     **model.asdict())\n",
    "\n",
    "# # np.repeat([msprime.Sample(gp, 0) for gp in range(2)], 100)"
   ]
  },
  {
   "cell_type": "code",
   "execution_count": null,
   "metadata": {},
   "outputs": [],
   "source": [
    "# for ts in ts_rep:\n",
    "#     print(ts.genotype_matrix().shape)\n",
    "# #     for node in ts.nodes():\n",
    "# # #         print(1)\n",
    "# # #         print(node.flags())\n",
    "# #         if node.population==1:\n",
    "# #             print(node)"
   ]
  },
  {
   "cell_type": "code",
   "execution_count": null,
   "metadata": {},
   "outputs": [],
   "source": [
    "for node in ts_eur.nodes():\n",
    "    print(node)"
   ]
  },
  {
   "cell_type": "code",
   "execution_count": null,
   "metadata": {},
   "outputs": [],
   "source": [
    "ts_afr_rep = msprime.simulate(\n",
    "    samples=[msprime.Sample(0, 0)]*100,\n",
    "    length=50000, \n",
    "    mutation_rate=1.25e-8, \n",
    "    recombination_rate=1e-8,\n",
    "    random_seed=30,\n",
    "    num_replicates=5,\n",
    "    **model.asdict())\n",
    "\n",
    "for j, ts in enumerate(ts_afr_rep):\n",
    "    add_mnms(ts, \"gutenkunst_rep\"+str(j), \"afr\", 100, 0.015)\n",
    "\n",
    "    \n",
    "# ts_eur_rep = msprime.simulate(\n",
    "#     samples=[msprime.Sample(1, 0)]*100,\n",
    "#     length=50000, \n",
    "#     mutation_rate=1.25e-8, \n",
    "#     recombination_rate=1e-8,\n",
    "#     random_seed=30,\n",
    "#     num_replicates=5,\n",
    "#     **model.asdict())"
   ]
  },
  {
   "cell_type": "markdown",
   "metadata": {},
   "source": [
    "## tweaking code from ArchIE"
   ]
  },
  {
   "cell_type": "code",
   "execution_count": null,
   "metadata": {},
   "outputs": [],
   "source": [
    "ref_geno = []\n",
    "with open(\"/mnt/norbert/home/jedidiah/projects/primeval/gutenkunst_eur_mnm100-0.015_0.geno\", 'r') as f:\n",
    "        for line in f:\n",
    "            ll = list(line)[:-1]\n",
    "            li = [int(i) for i in ll]\n",
    "            ref_geno.append(li)\n"
   ]
  },
  {
   "cell_type": "code",
   "execution_count": null,
   "metadata": {},
   "outputs": [],
   "source": [
    "len(ref_geno[1])"
   ]
  },
  {
   "cell_type": "code",
   "execution_count": null,
   "metadata": {},
   "outputs": [],
   "source": [
    "geno = []\n",
    "with open(\"/mnt/norbert/home/jedidiah/projects/primeval/gutenkunst_afr_mnm100-0.015_0.geno\", 'r') as f:\n",
    "        for line in f:\n",
    "            ll = list(line)[:-1]\n",
    "            li = [int(i) for i in ll]\n",
    "            geno.append(li)"
   ]
  },
  {
   "cell_type": "code",
   "execution_count": null,
   "metadata": {},
   "outputs": [],
   "source": [
    "import sklearn.metrics.pairwise\n",
    "f = np.array(geno)[:,1]\n",
    "t_r = np.transpose(np.array(ref_geno))\n",
    "d = []\n",
    "for r in t_r:\n",
    "    r_np = np.array(r)\n",
    "    arr = np.array([f, r_np])\n",
    "    d.append(np.max(sklearn.metrics.pairwise.pairwise_distances(arr)))\n"
   ]
  },
  {
   "cell_type": "code",
   "execution_count": null,
   "metadata": {},
   "outputs": [],
   "source": [
    "arr"
   ]
  },
  {
   "cell_type": "markdown",
   "metadata": {},
   "source": [
    "## Playing with recombination breakpoints"
   ]
  },
  {
   "cell_type": "code",
   "execution_count": null,
   "metadata": {},
   "outputs": [],
   "source": [
    "print(list(ts.breakpoints())[1:10])"
   ]
  },
  {
   "cell_type": "code",
   "execution_count": null,
   "metadata": {},
   "outputs": [],
   "source": [
    "from bisect import bisect_left\n",
    "\n",
    "def takeClosest(myList, myNumber):\n",
    "    \"\"\"\n",
    "    Assumes myList is sorted. Returns closest value to myNumber.\n",
    "\n",
    "    If two numbers are equally close, return the smallest number.\n",
    "    \"\"\"\n",
    "    pos = bisect_left(myList, myNumber)\n",
    "    if pos == 0:\n",
    "        return myList[0]\n",
    "    if pos == len(myList):\n",
    "        return myList[-1]\n",
    "    before = myList[pos - 1]\n",
    "    after = myList[pos]\n",
    "    return after\n",
    "#     if after - myNumber < myNumber - before:\n",
    "#        return after\n",
    "#     else:\n",
    "#        return before"
   ]
  },
  {
   "cell_type": "code",
   "execution_count": null,
   "metadata": {},
   "outputs": [],
   "source": [
    "takeClosest(list(ts.breakpoints()), 2813)"
   ]
  },
  {
   "cell_type": "code",
   "execution_count": 7,
   "metadata": {},
   "outputs": [
    {
     "data": {
      "text/plain": [
       "17390.058059971307"
      ]
     },
     "execution_count": 7,
     "metadata": {},
     "output_type": "execute_result"
    }
   ],
   "source": [
    "import math\n",
    "1032 / math.exp(-0.00307 * 23000/25)"
   ]
  }
 ],
 "metadata": {
  "kernelspec": {
   "display_name": "anaconda",
   "language": "python",
   "name": "anaconda"
  },
  "language_info": {
   "codemirror_mode": {
    "name": "ipython",
    "version": 3
   },
   "file_extension": ".py",
   "mimetype": "text/x-python",
   "name": "python",
   "nbconvert_exporter": "python",
   "pygments_lexer": "ipython3",
   "version": "3.6.8"
  }
 },
 "nbformat": 4,
 "nbformat_minor": 2
}
